{
 "cells": [
  {
   "cell_type": "code",
   "execution_count": 1,
   "metadata": {},
   "outputs": [],
   "source": [
    "import numpy as np\n",
    "import matplotlib.pyplot as plt"
   ]
  },
  {
   "cell_type": "code",
   "execution_count": 36,
   "metadata": {},
   "outputs": [],
   "source": [
    "h = 4.135667E-15  \n",
    "c = 299792458  \n",
    "l = [587E-9,487E-9,427E-9,372E-9]\n",
    "ratio = [1,0.52,0.14,0.04]\n",
    "Lp = 1.2E16\n",
    "sigma = 100*1000 #(nm)\n",
    "r_eye = 150E-6\n",
    "r_lens = 50E-6\n",
    "OSD = [2.4E-6,2.4E-6,2.8E-6,2.6E-6]"
   ]
  },
  {
   "cell_type": "markdown",
   "metadata": {},
   "source": [
    "### Natural Photon radiance for Red"
   ]
  },
  {
   "cell_type": "code",
   "execution_count": 37,
   "metadata": {},
   "outputs": [
    {
     "name": "stdout",
     "output_type": "stream",
     "text": [
      "1.2e+16 photon/m2/sr/s/nm\n"
     ]
    }
   ],
   "source": [
    "print(np.format_float_scientific(Lp,precision=2) +' photon/m2/sr/s/nm')"
   ]
  },
  {
   "cell_type": "markdown",
   "metadata": {},
   "source": [
    "### Photon flux going through the retina (chromatic ratio applied)"
   ]
  },
  {
   "cell_type": "code",
   "execution_count": 38,
   "metadata": {},
   "outputs": [
    {
     "name": "stdout",
     "output_type": "stream",
     "text": [
      "9.42e+07 photon/sr/s/nm\n",
      "4.90e+07 photon/sr/s/nm\n",
      "1.32e+07 photon/sr/s/nm\n",
      "3.77e+06 photon/sr/s/nm\n"
     ]
    }
   ],
   "source": [
    "pa = Lp*np.pi*np.square(r_lens)\n",
    "Pa=[]\n",
    "for i in range(4):\n",
    "    p = ratio[i]*pa\n",
    "    Pa.append(p)\n",
    "    print(np.format_float_scientific(Pa[i],precision=2) +' photon/sr/s/nm')"
   ]
  },
  {
   "cell_type": "markdown",
   "metadata": {},
   "source": [
    "### Cone outer-segment area"
   ]
  },
  {
   "cell_type": "code",
   "execution_count": 39,
   "metadata": {},
   "outputs": [
    {
     "name": "stdout",
     "output_type": "stream",
     "text": [
      "4.52e-12 m2\n",
      "4.52e-12 m2\n",
      "6.16e-12 m2\n",
      "5.31e-12 m2\n"
     ]
    }
   ],
   "source": [
    "OSA = []\n",
    "for i in range (4):\n",
    "    osa = np.pi*np.square(OSD[i]/2)\n",
    "    OSA.append(osa)\n",
    "    print(np.format_float_scientific(OSA[i],precision=2) + ' m2')"
   ]
  },
  {
   "cell_type": "markdown",
   "metadata": {},
   "source": [
    "### Collection angle"
   ]
  },
  {
   "cell_type": "code",
   "execution_count": 40,
   "metadata": {},
   "outputs": [
    {
     "name": "stdout",
     "output_type": "stream",
     "text": [
      "2.01e-04 sr\n",
      "2.01e-04 sr\n",
      "2.74e-04 sr\n",
      "2.36e-04 sr\n"
     ]
    }
   ],
   "source": [
    "Omega = []\n",
    "for i in range (4):\n",
    "    omega = OSA[i] / np.square(r_eye)\n",
    "    Omega.append(omega)\n",
    "    print(np.format_float_scientific(Omega[i],precision=2) + ' sr')"
   ]
  },
  {
   "cell_type": "markdown",
   "metadata": {},
   "source": [
    "### Photon flux"
   ]
  },
  {
   "cell_type": "code",
   "execution_count": 41,
   "metadata": {},
   "outputs": [
    {
     "name": "stdout",
     "output_type": "stream",
     "text": [
      "2.22e+09 photon/s\n",
      "1.16e+09 photon/s\n",
      "3.11e+08 photon/s\n",
      "8.9e+07 photon/s\n"
     ]
    }
   ],
   "source": [
    "Phi = []\n",
    "for i in range (4):\n",
    "    phi = Pa[i]*omega*sigma \n",
    "    Phi.append(phi)\n",
    "    print(np.format_float_scientific(Phi[i],precision=2)+ ' photon/s')"
   ]
  },
  {
   "cell_type": "markdown",
   "metadata": {},
   "source": [
    "### Wavelength-dependent, photon energy"
   ]
  },
  {
   "cell_type": "code",
   "execution_count": 42,
   "metadata": {},
   "outputs": [
    {
     "name": "stdout",
     "output_type": "stream",
     "text": [
      "2.11e+00 eV/photon\n",
      "2.55e+00 eV/photon\n",
      "2.90e+00 eV/photon\n",
      "3.33e+00 eV/photon\n"
     ]
    }
   ],
   "source": [
    "Q = []\n",
    "for i in range(4):\n",
    "    q = c*h/l[i]\n",
    "    Q.append(q)\n",
    "    print(np.format_float_scientific(Q[i],precision=2) +' eV/photon')"
   ]
  },
  {
   "cell_type": "markdown",
   "metadata": {},
   "source": [
    "### Energy Flux"
   ]
  },
  {
   "cell_type": "code",
   "execution_count": 43,
   "metadata": {},
   "outputs": [
    {
     "name": "stdout",
     "output_type": "stream",
     "text": [
      "4.7e+09 eV/S\n",
      "2.94e+09 eV/S\n",
      "9.04e+08 eV/S\n",
      "2.96e+08 eV/S\n"
     ]
    }
   ],
   "source": [
    "Pe = []\n",
    "correction = 1\n",
    "for i in range(4):\n",
    "    pe = Phi[i]*Q[i]*correction\n",
    "    Pe.append(pe)\n",
    "    print(np.format_float_scientific(Pe[i],precision=2) +' eV/S')"
   ]
  },
  {
   "cell_type": "code",
   "execution_count": 44,
   "metadata": {},
   "outputs": [
    {
     "name": "stdout",
     "output_type": "stream",
     "text": [
      "7.53e+00 nW\n",
      "4.72e+00 nW\n",
      "1.45e+00 nW\n",
      "4.75e-01 nW\n"
     ]
    }
   ],
   "source": [
    "eV_per_J = 6.242E+18    \n",
    "PeF = []\n",
    "for i in range (4):\n",
    "    peF = Pe[i] / eV_per_J *10E9\n",
    "    PeF.append(peF)\n",
    "    print(np.format_float_scientific(PeF[i],precision=2) + ' nW')"
   ]
  },
  {
   "cell_type": "code",
   "execution_count": 45,
   "metadata": {},
   "outputs": [
    {
     "data": {
      "text/plain": [
       "<BarContainer object of 1 artists>"
      ]
     },
     "execution_count": 45,
     "metadata": {},
     "output_type": "execute_result"
    },
    {
     "data": {
      "image/png": "[encoded data removed]",
      "text/plain": [
       "<Figure size 432x288 with 1 Axes>"
      ]
     },
     "metadata": {
      "needs_background": "light"
     },
     "output_type": "display_data"
    }
   ],
   "source": [
    "alpha = 0.9\n",
    "In = 1\n",
    "RGBA = [(In,0,0,alpha),(0,In,0,alpha),(0,0,In,alpha),(In,0,In,alpha)]\n",
    "\n",
    "x = np.arange(1)\n",
    "plt.bar(x, PeF[0],color =RGBA[0],edgecolor = 'k', width = 0.25)\n",
    "plt.bar(x+0.25, PeF[1],color =RGBA[1],edgecolor = 'k',width = 0.25)\n",
    "plt.bar(x+0.50, PeF[2],color =RGBA[2],edgecolor = 'k',width = 0.25)\n",
    "plt.bar(x+0.75, PeF[3],color =RGBA[3],edgecolor = 'k',width = 0.25)"
   ]
  },
  {
   "cell_type": "code",
   "execution_count": 46,
   "metadata": {},
   "outputs": [
    {
     "data": {
      "text/plain": [
       "[7.525399954950407, 4.716741441989861, 1.448331073297013, 0.474990298231816]"
      ]
     },
     "execution_count": 46,
     "metadata": {},
     "output_type": "execute_result"
    }
   ],
   "source": [
    "PeF"
   ]
  },
  {
   "cell_type": "code",
   "execution_count": null,
   "metadata": {},
   "outputs": [],
   "source": []
  }
 ],
 "metadata": {
  "kernelspec": {
   "display_name": "Python 3",
   "language": "python",
   "name": "python3"
  },
  "language_info": {
   "codemirror_mode": {
    "name": "ipython",
    "version": 3
   },
   "file_extension": ".py",
   "mimetype": "text/x-python",
   "name": "python",
   "nbconvert_exporter": "python",
   "pygments_lexer": "ipython3",
   "version": "3.6.8"
  }
 },
 "nbformat": 4,
 "nbformat_minor": 2
}
